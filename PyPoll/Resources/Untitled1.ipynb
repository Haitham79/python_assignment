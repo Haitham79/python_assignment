{
 "cells": [
  {
   "cell_type": "code",
   "execution_count": 11,
   "id": "058336cf",
   "metadata": {},
   "outputs": [],
   "source": [
    "import csv"
   ]
  },
  {
   "cell_type": "code",
   "execution_count": 12,
   "id": "9456cfe8",
   "metadata": {},
   "outputs": [],
   "source": [
    "import os"
   ]
  },
  {
   "cell_type": "code",
   "execution_count": 32,
   "id": "72fb199e",
   "metadata": {},
   "outputs": [],
   "source": [
    "with open(r\"C:\\Users\\Owner\\Desktop\\PyPoll\\Resources\\election_data.csv\",'r') as file:\n",
    "    csvreader = csv.reader(file) \n",
    "    Ballot_ID = []\n",
    "    County = []\n",
    "    Candidate =[]"
   ]
  },
  {
   "cell_type": "code",
   "execution_count": 28,
   "id": "a5122b67",
   "metadata": {},
   "outputs": [
    {
     "ename": "NameError",
     "evalue": "name 'votes' is not defined",
     "output_type": "error",
     "traceback": [
      "\u001b[1;31m---------------------------------------------------------------------------\u001b[0m",
      "\u001b[1;31mNameError\u001b[0m                                 Traceback (most recent call last)",
      "\u001b[1;32m~\\AppData\\Local\\Temp\\ipykernel_14228\\1775115997.py\u001b[0m in \u001b[0;36m<module>\u001b[1;34m\u001b[0m\n\u001b[0;32m      1\u001b[0m \u001b[0mtotalvotes\u001b[0m\u001b[1;33m=\u001b[0m\u001b[1;36m0\u001b[0m\u001b[1;33m\u001b[0m\u001b[1;33m\u001b[0m\u001b[0m\n\u001b[1;32m----> 2\u001b[1;33m \u001b[1;32mfor\u001b[0m \u001b[0mi\u001b[0m \u001b[1;32min\u001b[0m \u001b[0mrange\u001b[0m\u001b[1;33m(\u001b[0m\u001b[1;36m1\u001b[0m\u001b[1;33m,\u001b[0m \u001b[0mlen\u001b[0m\u001b[1;33m(\u001b[0m\u001b[0mvotes\u001b[0m\u001b[1;33m)\u001b[0m\u001b[1;33m)\u001b[0m\u001b[1;33m:\u001b[0m\u001b[1;33m\u001b[0m\u001b[1;33m\u001b[0m\u001b[0m\n\u001b[0m\u001b[0;32m      3\u001b[0m     \u001b[0mtotalvotes\u001b[0m \u001b[1;33m=\u001b[0m \u001b[0mtotalvotes\u001b[0m \u001b[1;33m+\u001b[0m \u001b[0mint\u001b[0m\u001b[1;33m(\u001b[0m\u001b[0mfloat\u001b[0m\u001b[1;33m(\u001b[0m\u001b[0mvotes\u001b[0m\u001b[1;33m[\u001b[0m\u001b[0mi\u001b[0m\u001b[1;33m]\u001b[0m\u001b[1;33m)\u001b[0m\u001b[1;33m)\u001b[0m\u001b[1;33m\u001b[0m\u001b[1;33m\u001b[0m\u001b[0m\n",
      "\u001b[1;31mNameError\u001b[0m: name 'votes' is not defined"
     ]
    }
   ],
   "source": [
    "totalvotes=0\n",
    "for i in range(1, len(votes)):\n",
    "    totalvotes = totalvotes + int(float(votes[i]))"
   ]
  },
  {
   "cell_type": "code",
   "execution_count": 15,
   "id": "d278b7b1",
   "metadata": {},
   "outputs": [],
   "source": [
    "candidate_options = []"
   ]
  },
  {
   "cell_type": "code",
   "execution_count": 16,
   "id": "379e74b9",
   "metadata": {},
   "outputs": [],
   "source": [
    "county_votes = {}\n",
    "county_locations = []"
   ]
  },
  {
   "cell_type": "code",
   "execution_count": 17,
   "id": "7fa32095",
   "metadata": {},
   "outputs": [],
   "source": [
    "inning_candidate = \"\"\n",
    "winning_count = 0\n",
    "winning_percentage = 0"
   ]
  },
  {
   "cell_type": "code",
   "execution_count": null,
   "id": "930f7e7d",
   "metadata": {},
   "outputs": [],
   "source": []
  }
 ],
 "metadata": {
  "kernelspec": {
   "display_name": "Python 3 (ipykernel)",
   "language": "python",
   "name": "python3"
  },
  "language_info": {
   "codemirror_mode": {
    "name": "ipython",
    "version": 3
   },
   "file_extension": ".py",
   "mimetype": "text/x-python",
   "name": "python",
   "nbconvert_exporter": "python",
   "pygments_lexer": "ipython3",
   "version": "3.9.13"
  }
 },
 "nbformat": 4,
 "nbformat_minor": 5
}
