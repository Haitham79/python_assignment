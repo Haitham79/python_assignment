{
 "cells": [
  {
   "cell_type": "code",
   "execution_count": null,
   "id": "0e245df6",
   "metadata": {},
   "outputs": [],
   "source": [
    "import os "
   ]
  },
  {
   "cell_type": "code",
   "execution_count": null,
   "id": "d75b0d1a",
   "metadata": {},
   "outputs": [],
   "source": [
    "import csv"
   ]
  },
  {
   "cell_type": "code",
   "execution_count": null,
   "id": "1391ca95",
   "metadata": {},
   "outputs": [],
   "source": [
    "with open(r\"C:\\Users\\Owner\\Desktop\\PyPoll\\Resources\\election_data.csv\",'r') as file:\n",
    "    csvreader = csv.reader(file) \n",
    "    vote_list = []\n",
    "    votes_numbers = []"
   ]
  },
  {
   "cell_type": "code",
   "execution_count": null,
   "id": "00261222",
   "metadata": {},
   "outputs": [],
   "source": [
    "total_votes = 0"
   ]
  },
  {
   "cell_type": "code",
   "execution_count": null,
   "id": "c63384f7",
   "metadata": {},
   "outputs": [],
   "source": [
    "candidate_options = []"
   ]
  },
  {
   "cell_type": "code",
   "execution_count": null,
   "id": "1f052367",
   "metadata": {},
   "outputs": [],
   "source": [
    "def winner(input):"
   ]
  },
  {
   "cell_type": "code",
   "execution_count": null,
   "id": "04c16b74",
   "metadata": {},
   "outputs": [],
   "source": [
    "max_votes=max(vote_count.values())"
   ]
  },
  {
   "cell_type": "code",
   "execution_count": null,
   "id": "1a692f7a",
   "metadata": {},
   "outputs": [],
   "source": [
    "total_votes = sum(votes_numbers)\n",
    "max_votes = max(votes_numbers)\n",
    "winner_index = votes_numbers.index(max_votes)\n",
    "winner_name = vote_list[winner_index]"
   ]
  },
  {
   "cell_type": "code",
   "execution_count": null,
   "id": "5d7be0f1",
   "metadata": {},
   "outputs": [],
   "source": [
    "for i in range(5):\n",
    "    candidate = input(\"Enter the name of the candidate:\")\n",
    "    vote_list.append(candidate)\n",
    "    number_votes = int(input('Enter the number of votes:'))\n",
    "    votes_numbers.append(number_votes)\n",
    "print(vote_list)\n",
    "print(votes_numbers)"
   ]
  },
  {
   "cell_type": "code",
   "execution_count": null,
   "id": "75185dbc",
   "metadata": {},
   "outputs": [],
   "source": [
    "county_votes = {}\n",
    "county_locations = []"
   ]
  },
  {
   "cell_type": "code",
   "execution_count": null,
   "id": "c4364f83",
   "metadata": {},
   "outputs": [],
   "source": [
    "numberOfvotes = len(Ballot_ID)-1\n",
    "print(\"number of votes: \" + str(numberOfvotes))"
   ]
  },
  {
   "cell_type": "code",
   "execution_count": null,
   "id": "69e7baca",
   "metadata": {},
   "outputs": [],
   "source": [
    "total_votes = sum(votes_numbers)"
   ]
  },
  {
   "cell_type": "code",
   "execution_count": null,
   "id": "3384b8b6",
   "metadata": {},
   "outputs": [],
   "source": []
  }
 ],
 "metadata": {
  "kernelspec": {
   "display_name": "Python 3 (ipykernel)",
   "language": "python",
   "name": "python3"
  },
  "language_info": {
   "codemirror_mode": {
    "name": "ipython",
    "version": 3
   },
   "file_extension": ".py",
   "mimetype": "text/x-python",
   "name": "python",
   "nbconvert_exporter": "python",
   "pygments_lexer": "ipython3",
   "version": "3.9.13"
  }
 },
 "nbformat": 4,
 "nbformat_minor": 5
}
